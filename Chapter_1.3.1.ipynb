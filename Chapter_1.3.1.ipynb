{
 "cells": [
  {
   "cell_type": "code",
   "execution_count": 8,
   "metadata": {},
   "outputs": [],
   "source": [
    "import numpy as np\n",
    "import cv2"
   ]
  },
  {
   "cell_type": "code",
   "execution_count": 9,
   "metadata": {},
   "outputs": [],
   "source": [
    "# Load an color image in grayscale\n",
    "img = cv2.imread('Mountain.jpg')"
   ]
  },
  {
   "cell_type": "code",
   "execution_count": 55,
   "metadata": {},
   "outputs": [],
   "source": [
    "cv2.imshow('image',img)\n",
    "cv2.waitKey(0)\n",
    "cv2.destroyAllWindows()"
   ]
  },
  {
   "cell_type": "code",
   "execution_count": 49,
   "metadata": {},
   "outputs": [],
   "source": [
    "for x in range(100):\n",
    "    for y in range(100):\n",
    "        img.itemset((500+x,500+y,1),255)"
   ]
  },
  {
   "cell_type": "code",
   "execution_count": 37,
   "metadata": {},
   "outputs": [],
   "source": [
    "img[0:100, 0:100] = [255,0,0]"
   ]
  },
  {
   "cell_type": "code",
   "execution_count": 51,
   "metadata": {},
   "outputs": [
    {
     "name": "stdout",
     "output_type": "stream",
     "text": [
      "(1333, 2000, 3)\n",
      "7998000\n"
     ]
    }
   ],
   "source": [
    "print(img.shape)\n",
    "print(img.size)"
   ]
  },
  {
   "cell_type": "code",
   "execution_count": 53,
   "metadata": {},
   "outputs": [
    {
     "name": "stdout",
     "output_type": "stream",
     "text": [
      "7998000\n"
     ]
    }
   ],
   "source": [
    "print(1333*2000*3)"
   ]
  },
  {
   "cell_type": "code",
   "execution_count": 54,
   "metadata": {},
   "outputs": [],
   "source": [
    "ball = img[280:340, 330:390]\n",
    "img[273:333, 100:160] = ball"
   ]
  },
  {
   "cell_type": "code",
   "execution_count": 56,
   "metadata": {},
   "outputs": [],
   "source": [
    "b,g,r = cv2.split(img)"
   ]
  },
  {
   "cell_type": "code",
   "execution_count": 60,
   "metadata": {},
   "outputs": [
    {
     "name": "stdout",
     "output_type": "stream",
     "text": [
      "[[[255   0   0]\n",
      "  [255   0   0]\n",
      "  [255   0   0]\n",
      "  ...\n",
      "  [103  59  30]\n",
      "  [102  58  29]\n",
      "  [103  59  30]]\n",
      "\n",
      " [[255   0   0]\n",
      "  [255   0   0]\n",
      "  [255   0   0]\n",
      "  ...\n",
      "  [102  57  30]\n",
      "  [101  56  29]\n",
      "  [101  56  29]]\n",
      "\n",
      " [[255   0   0]\n",
      "  [255   0   0]\n",
      "  [255   0   0]\n",
      "  ...\n",
      "  [102  56  32]\n",
      "  [102  56  32]\n",
      "  [101  55  31]]\n",
      "\n",
      " ...\n",
      "\n",
      " [[ 41  47  52]\n",
      "  [ 42  48  53]\n",
      "  [ 40  46  51]\n",
      "  ...\n",
      "  [ 54  75  72]\n",
      "  [ 53  67  66]\n",
      "  [ 31  43  43]]\n",
      "\n",
      " [[ 21  25  30]\n",
      "  [ 16  20  25]\n",
      "  [ 11  15  20]\n",
      "  ...\n",
      "  [ 70  84  82]\n",
      "  [ 51  65  64]\n",
      "  [ 15  31  30]]\n",
      "\n",
      " [[ 24  28  33]\n",
      "  [ 18  22  27]\n",
      "  [ 10  14  19]\n",
      "  ...\n",
      "  [ 54  68  66]\n",
      "  [ 46  60  59]\n",
      "  [ 18  34  33]]]\n"
     ]
    }
   ],
   "source": [
    "print(img)"
   ]
  },
  {
   "cell_type": "code",
   "execution_count": 1,
   "metadata": {},
   "outputs": [
    {
     "name": "stderr",
     "output_type": "stream",
     "text": [
      "Matplotlib is building the font cache; this may take a moment.\n"
     ]
    }
   ],
   "source": [
    "import cv2\n",
    "import numpy as np\n",
    "from matplotlib import pyplot as plt"
   ]
  },
  {
   "cell_type": "code",
   "execution_count": 2,
   "metadata": {},
   "outputs": [],
   "source": [
    "BLUE = [255,0,0]"
   ]
  },
  {
   "cell_type": "code",
   "execution_count": 3,
   "metadata": {},
   "outputs": [],
   "source": [
    "img1 = cv2.imread('OpenCV_Logo.png')"
   ]
  },
  {
   "cell_type": "code",
   "execution_count": 4,
   "metadata": {},
   "outputs": [],
   "source": [
    "replicate = cv2.copyMakeBorder(img1,10,10,10,10,cv2.BORDER_REPLICATE)\n",
    "reflect = cv2.copyMakeBorder(img1,10,10,10,10,cv2.BORDER_REFLECT)\n",
    "reflect101 = cv2.copyMakeBorder(img1,10,10,10,10,cv2.BORDER_REFLECT_101)\n",
    "wrap = cv2.copyMakeBorder(img1,10,10,10,10,cv2.BORDER_WRAP)\n",
    "constant= cv2.copyMakeBorder(img1,10,10,10,10,cv2.BORDER_CONSTANT,value=BLUE)"
   ]
  },
  {
   "cell_type": "code",
   "execution_count": 9,
   "metadata": {},
   "outputs": [
    {
     "data": {
      "image/png": "[encoded data removed]",
      "text/plain": [
       "<Figure size 432x288 with 8 Axes>"
      ]
     },
     "metadata": {
      "needs_background": "light"
     },
     "output_type": "display_data"
    }
   ],
   "source": [
    "plt.subplot(241),plt.imshow(img1,'gray'),plt.title('ORIGINAL')\n",
    "plt.subplot(242),plt.imshow(replicate,'gray'),plt.title('REPLICATE')\n",
    "plt.subplot(243),plt.imshow(reflect,'gray'),plt.title('REFLECT')\n",
    "plt.subplot(244),plt.imshow(reflect101,'gray'),plt.title('REFLECT_101')\n",
    "plt.subplot(245),plt.imshow(wrap,'gray'),plt.title('WRAP')\n",
    "plt.subplot(246),plt.imshow(constant,'gray'),plt.title('CONSTANT')\n",
    "plt.subplot(247),plt.imshow(constant,'gray'),plt.title('CONSTANT')\n",
    "plt.subplot(248),plt.imshow(constant,'gray'),plt.title('CONSTANT')\n",
    "plt.show()"
   ]
  }
 ],
 "metadata": {
  "kernelspec": {
   "display_name": "Python 3.8.13 ('opencv')",
   "language": "python",
   "name": "python3"
  },
  "language_info": {
   "codemirror_mode": {
    "name": "ipython",
    "version": 3
   },
   "file_extension": ".py",
   "mimetype": "text/x-python",
   "name": "python",
   "nbconvert_exporter": "python",
   "pygments_lexer": "ipython3",
   "version": "3.8.13"
  },
  "orig_nbformat": 4,
  "vscode": {
   "interpreter": {
    "hash": "a26362d78a976ea020b4f13515ff8072f4656e63c6e7eacefd66ab32bde0b9d8"
   }
  }
 },
 "nbformat": 4,
 "nbformat_minor": 2
}
